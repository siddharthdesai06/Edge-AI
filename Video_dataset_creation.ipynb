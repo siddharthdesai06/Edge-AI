{
 "cells": [
  {
   "cell_type": "code",
   "execution_count": null,
   "id": "3ab36811",
   "metadata": {},
   "outputs": [],
   "source": [
    "import os\n",
    "import cv2\n",
    "import numpy as np\n",
    "import pyrealsense2 as rs\n",
    "\n",
    "# Initialize RealSense pipeline\n",
    "pipeline = rs.pipeline()\n",
    "config = rs.config()\n",
    "config.enable_stream(rs.stream.color, 640, 480, rs.format.bgr8, 30)\n",
    "pipeline.start(config)\n",
    "\n",
    "# Counter for filename and image count\n",
    "file_count = 1\n",
    "image_count = 0\n",
    "max_images = 1000\n",
    "\n",
    "try:\n",
    "    # Prompt user for folder name\n",
    "    folder_name = input(\"Enter folder name to save images: \")\n",
    "\n",
    "    # Create folder if it doesn't exist\n",
    "    if not os.path.exists(folder_name):\n",
    "        os.makedirs(folder_name)\n",
    "        print(f\"Folder '{folder_name}' created.\")\n",
    "\n",
    "    while image_count < max_images:\n",
    "        # Wait for a color frame\n",
    "        frames = pipeline.wait_for_frames()\n",
    "        color_frame = frames.get_color_frame()\n",
    "\n",
    "        if not color_frame:\n",
    "            continue\n",
    "\n",
    "        # Convert color image to numpy array\n",
    "        color_image = np.asanyarray(color_frame.get_data())\n",
    "\n",
    "        # Display image\n",
    "        cv2.imshow('Capture Images - Press \"q\" to Quit', color_image)\n",
    "\n",
    "        # Capture image on key press\n",
    "        key = cv2.waitKey(1)\n",
    "        if key == ord('q'):\n",
    "            break\n",
    "        else:\n",
    "            # Save image with sequential filename in the specified folder\n",
    "            file_name = os.path.join(folder_name, f'file{file_count}.jpg')\n",
    "            cv2.imwrite(file_name, color_image)\n",
    "            print(f\"Saved image: {file_name}\")\n",
    "            file_count += 1\n",
    "            image_count += 1\n",
    "\n",
    "finally:\n",
    "    # Stop streaming\n",
    "    pipeline.stop()\n",
    "    cv2.destroyAllWindows()"
   ]
  }
 ],
 "metadata": {
  "kernelspec": {
   "display_name": "Python 3 (ipykernel)",
   "language": "python",
   "name": "python3"
  },
  "language_info": {
   "codemirror_mode": {
    "name": "ipython",
    "version": 3
   },
   "file_extension": ".py",
   "mimetype": "text/x-python",
   "name": "python",
   "nbconvert_exporter": "python",
   "pygments_lexer": "ipython3",
   "version": "3.9.13"
  }
 },
 "nbformat": 4,
 "nbformat_minor": 5
}
