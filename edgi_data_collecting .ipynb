{
 "cells": [
  {
   "cell_type": "code",
   "execution_count": 12,
   "id": "e7df0330",
   "metadata": {},
   "outputs": [],
   "source": [
    "import serial\n",
    "import wave\n",
    "import time\n",
    "\n",
    "# Setup serial connection (COM port may vary)\n",
    "ser = serial.Serial('COM3', 38400)"
   ]
  },
  {
   "cell_type": "code",
   "execution_count": 4,
   "id": "4c2551c4",
   "metadata": {},
   "outputs": [
    {
     "name": "stdout",
     "output_type": "stream",
     "text": [
      "Stopping\n",
      "Audio recording saved as output.wav\n"
     ]
    }
   ],
   "source": [
    "\n",
    "# Open a WAV file\n",
    "wav_file = wave.open('file1.wav', 'w')\n",
    "wav_file.setnchannels(1)  # mono\n",
    "wav_file.setsampwidth(2)  # two bytes per sample\n",
    "wav_file.setframerate(16000)  # 16000 samples per second\n",
    "\n",
    "try:\n",
    "    while True:\n",
    "        if ser.in_waiting > 0:\n",
    "            audio_data = ser.read(ser.in_waiting)\n",
    "            wav_file.writeframes(audio_data)\n",
    "            print(\"Writing audio data...\")\n",
    "except KeyboardInterrupt:\n",
    "    print(\"Stopping\")\n",
    "finally:\n",
    "    ser.close()\n",
    "    wav_file.close()\n",
    "\n",
    "print(\"Audio recording saved as output.wav\")\n"
   ]
  },
  {
   "cell_type": "code",
   "execution_count": 14,
   "id": "dc67a205",
   "metadata": {},
   "outputs": [],
   "source": [
    "\n",
    "# Open a WAV file\n",
    "wav_file = wave.open('file3.wav', 'w')\n",
    "wav_file.setnchannels(1)  # mono\n",
    "wav_file.setsampwidth(2)  # two bytes per sample\n",
    "wav_file.setframerate(16000)  # 16000 samples per second\n"
   ]
  },
  {
   "cell_type": "code",
   "execution_count": 15,
   "id": "10093a81",
   "metadata": {},
   "outputs": [
    {
     "name": "stdout",
     "output_type": "stream",
     "text": [
      "Audio recording saved as output.wav\n"
     ]
    }
   ],
   "source": [
    "recording_time = 10  # Record for 60 seconds\n",
    "start_time = time.time()\n",
    "\n",
    "try:\n",
    "    while time.time() - start_time < recording_time:\n",
    "        if ser.in_waiting > 0:\n",
    "            audio_data = ser.read(ser.in_waiting)\n",
    "            wav_file.writeframes(audio_data)\n",
    "            print(\"Writing audio data...\")\n",
    "except KeyboardInterrupt:\n",
    "    print(\"Recording stopped by user.\")\n",
    "finally:\n",
    "#     ser.close()\n",
    "    wav_file.close()\n",
    "\n",
    "print(\"Audio recording saved as output.wav\")"
   ]
  },
  {
   "cell_type": "code",
   "execution_count": null,
   "id": "ca01419a",
   "metadata": {},
   "outputs": [],
   "source": []
  }
 ],
 "metadata": {
  "kernelspec": {
   "display_name": "Python 3 (ipykernel)",
   "language": "python",
   "name": "python3"
  },
  "language_info": {
   "codemirror_mode": {
    "name": "ipython",
    "version": 3
   },
   "file_extension": ".py",
   "mimetype": "text/x-python",
   "name": "python",
   "nbconvert_exporter": "python",
   "pygments_lexer": "ipython3",
   "version": "3.9.13"
  }
 },
 "nbformat": 4,
 "nbformat_minor": 5
}
